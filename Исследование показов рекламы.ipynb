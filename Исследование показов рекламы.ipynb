{
 "cells": [
  {
   "cell_type": "markdown",
   "id": "312e3d96",
   "metadata": {},
   "source": [
    "# Исследование показов рекламы\n",
    "\n",
    "## Цель\n",
    "Проведение исследования показов рекламы для выявления условий влияющих на eCPM.\n",
    "\n",
    "## Описание проекта\n",
    "Мобильная игра зарабатывает на показе рекламы. Есть несколько форматов: int – полноэкранная реклама; banner – горизонтальный баннер, висит внизу экрана пока юзер играет; rv – видео, которое юзер смотрит по желанию и за просмотр получает монетки или др. ресурсы. Информация о каждом показе содержит доход от показа, формат показанной рекламы, рекламную сеть от которой был показ и др.  \n",
    "eCPM – доход за 1000 показов рекламы.\n",
    "\n",
    "### Сведения о данных\n",
    "\n",
    "profile_id – id юзера  \n",
    "event_json содержит данные о событии показа рекламы:  \n",
    "    - ad_type – формат рекламы (int, banner или rv)  \n",
    "    - placement – когда/где был показ рекламы в игре  \n",
    "    - view_index – номер показа конкретного формата рекламы для юзера (не\n",
    "поддерживается для баннеров)  \n",
    "revenue – доход от конкретного показа рекламы (eCPM = revenue * 1000)  \n",
    "ads_ltv – накапливающийся доход от рекламы, равен сумме всех revenue юзера  \n",
    "network_name – рекламная сеть, от которой был показ  \n",
    "Остальные столбцы должны быть интуитивно понятны  \n",
    "\n",
    "## Порядок проведения исследования\n",
    "1. Чтение данных представленных для анализа таблиц\n",
    "2. Оценка данных\n",
    "3. Предобработка данных\n",
    "4. Анализ данных\n",
    "    - Для каждого формата рекламы построим распределение средних eCPM-ов юзеров\n",
    "    - Для каждого формата рекламы построим распределение eCPM-ов по городам, версиям ОС\n",
    "    - Для каждого формата рекламы построим распределение доходов по городам, версиям ОС\n",
    "    - Проверим гипотезы, при которых значения средних eCPM платформ одинаковые\n",
    "    - Узнаем какой процент доходов содержит информацию о городе юзера\n",
    "    - Узнаем зависит ли eCPM от времени дня\n",
    "5. Общие выводы\n",
    "\n",
    "Ссылка на задание: <https://drive.google.com/file/d/1NXeb5jWDn-pWkOMtOYLQimYK7wH88eJ8/view>  \n",
    "Cсылка на файл.csv: <https://drive.google.com/drive/folders/1bjWlzyXV8ALcoxZYrdNQH6_MOm3nS3Pl?usp=sharing>\n"
   ]
  },
  {
   "cell_type": "markdown",
   "id": "c1439d38",
   "metadata": {},
   "source": [
    "### Чтение данных представленной для анализа таблицы"
   ]
  },
  {
   "cell_type": "code",
   "execution_count": 1,
   "id": "a51b6968",
   "metadata": {},
   "outputs": [],
   "source": [
    "# загрузка библиотек\n",
    "import pandas as pd\n",
    "import numpy as np\n",
    "from datetime import datetime, timedelta\n",
    "import seaborn as sns\n",
    "from matplotlib import pyplot as plt\n",
    "import scipy.stats as st\n",
    "import json"
   ]
  },
  {
   "cell_type": "code",
   "execution_count": 2,
   "id": "3db9ea52",
   "metadata": {},
   "outputs": [],
   "source": [
    "# укажем путь к файлу\n",
    "path = [\n",
    "    'us events ad_revenue filtered 03.02-07.02.csv'\n",
    "]\n",
    "try:\n",
    "    ad_revenue = pd.read_csv(path[0]) \n",
    "except:\n",
    "    print('FileNotFoundError', path[0])   "
   ]
  },
  {
   "cell_type": "code",
   "execution_count": 3,
   "id": "7a671cd1",
   "metadata": {},
   "outputs": [
    {
     "data": {
      "text/html": [
       "<div>\n",
       "<style scoped>\n",
       "    .dataframe tbody tr th:only-of-type {\n",
       "        vertical-align: middle;\n",
       "    }\n",
       "\n",
       "    .dataframe tbody tr th {\n",
       "        vertical-align: top;\n",
       "    }\n",
       "\n",
       "    .dataframe thead th {\n",
       "        text-align: right;\n",
       "    }\n",
       "</style>\n",
       "<table border=\"1\" class=\"dataframe\">\n",
       "  <thead>\n",
       "    <tr style=\"text-align: right;\">\n",
       "      <th></th>\n",
       "      <th>profile_id</th>\n",
       "      <th>os_version</th>\n",
       "      <th>device_manufacturer</th>\n",
       "      <th>device_model</th>\n",
       "      <th>device_type</th>\n",
       "      <th>device_locale</th>\n",
       "      <th>event_name</th>\n",
       "      <th>event_json</th>\n",
       "      <th>event_datetime</th>\n",
       "      <th>event_timestamp</th>\n",
       "      <th>event_receive_datetime</th>\n",
       "      <th>event_receive_timestamp</th>\n",
       "      <th>connection_type</th>\n",
       "      <th>operator_name</th>\n",
       "      <th>country_iso_code</th>\n",
       "      <th>city</th>\n",
       "    </tr>\n",
       "  </thead>\n",
       "  <tbody>\n",
       "    <tr>\n",
       "      <th>0</th>\n",
       "      <td>JLjpGzDHBQm</td>\n",
       "      <td>11</td>\n",
       "      <td>Samsung</td>\n",
       "      <td>Galaxy Tab S6</td>\n",
       "      <td>tablet</td>\n",
       "      <td>en_US</td>\n",
       "      <td>c_ad_revenue</td>\n",
       "      <td>{\"ad_type\":\"banner\",\"placement\":\"\",\"view_index...</td>\n",
       "      <td>2022-02-04 20:02:28</td>\n",
       "      <td>1643994148</td>\n",
       "      <td>2022-02-06 17:58:19</td>\n",
       "      <td>1644159499</td>\n",
       "      <td>wifi</td>\n",
       "      <td>NaN</td>\n",
       "      <td>US</td>\n",
       "      <td>Norwalk</td>\n",
       "    </tr>\n",
       "    <tr>\n",
       "      <th>1</th>\n",
       "      <td>JLjpGzDHBQm</td>\n",
       "      <td>11</td>\n",
       "      <td>Samsung</td>\n",
       "      <td>Galaxy Tab S6</td>\n",
       "      <td>tablet</td>\n",
       "      <td>en_US</td>\n",
       "      <td>c_ad_revenue</td>\n",
       "      <td>{\"ad_type\":\"banner\",\"placement\":\"\",\"view_index...</td>\n",
       "      <td>2022-02-04 20:02:45</td>\n",
       "      <td>1643994165</td>\n",
       "      <td>2022-02-06 17:58:19</td>\n",
       "      <td>1644159499</td>\n",
       "      <td>wifi</td>\n",
       "      <td>NaN</td>\n",
       "      <td>US</td>\n",
       "      <td>Norwalk</td>\n",
       "    </tr>\n",
       "    <tr>\n",
       "      <th>2</th>\n",
       "      <td>JLkVacrzHY6</td>\n",
       "      <td>11</td>\n",
       "      <td>Google</td>\n",
       "      <td>Pixel 2</td>\n",
       "      <td>phone</td>\n",
       "      <td>en_US</td>\n",
       "      <td>c_ad_revenue</td>\n",
       "      <td>{\"ad_type\":\"banner\",\"placement\":\"\",\"view_index...</td>\n",
       "      <td>2022-02-05 17:53:05</td>\n",
       "      <td>1644072785</td>\n",
       "      <td>2022-02-06 16:59:29</td>\n",
       "      <td>1644155969</td>\n",
       "      <td>wifi</td>\n",
       "      <td>Verizon</td>\n",
       "      <td>US</td>\n",
       "      <td>Charlotte</td>\n",
       "    </tr>\n",
       "    <tr>\n",
       "      <th>3</th>\n",
       "      <td>JMC6wG3cX0f</td>\n",
       "      <td>10</td>\n",
       "      <td>Samsung</td>\n",
       "      <td>Galaxy S9</td>\n",
       "      <td>phone</td>\n",
       "      <td>en_US</td>\n",
       "      <td>c_ad_revenue</td>\n",
       "      <td>{\"ad_type\":\"int\",\"placement\":\"next_level\",\"vie...</td>\n",
       "      <td>2022-02-06 17:09:01</td>\n",
       "      <td>1644156541</td>\n",
       "      <td>2022-02-06 17:09:24</td>\n",
       "      <td>1644156564</td>\n",
       "      <td>wifi</td>\n",
       "      <td>T-Mobile</td>\n",
       "      <td>US</td>\n",
       "      <td>Cocoa</td>\n",
       "    </tr>\n",
       "    <tr>\n",
       "      <th>4</th>\n",
       "      <td>JLzWWTJfi1b</td>\n",
       "      <td>10</td>\n",
       "      <td>Samsung</td>\n",
       "      <td>Galaxy S9</td>\n",
       "      <td>phone</td>\n",
       "      <td>en_US</td>\n",
       "      <td>c_ad_revenue</td>\n",
       "      <td>{\"ad_type\":\"banner\",\"placement\":\"\",\"view_index...</td>\n",
       "      <td>2022-02-06 17:15:38</td>\n",
       "      <td>1644156938</td>\n",
       "      <td>2022-02-06 17:16:16</td>\n",
       "      <td>1644156976</td>\n",
       "      <td>cell</td>\n",
       "      <td>Verizon</td>\n",
       "      <td>US</td>\n",
       "      <td>NaN</td>\n",
       "    </tr>\n",
       "    <tr>\n",
       "      <th>5</th>\n",
       "      <td>JLzWWTJfi1b</td>\n",
       "      <td>10</td>\n",
       "      <td>Samsung</td>\n",
       "      <td>Galaxy S9</td>\n",
       "      <td>phone</td>\n",
       "      <td>en_US</td>\n",
       "      <td>c_ad_revenue</td>\n",
       "      <td>{\"ad_type\":\"banner\",\"placement\":\"\",\"view_index...</td>\n",
       "      <td>2022-02-06 17:15:53</td>\n",
       "      <td>1644156953</td>\n",
       "      <td>2022-02-06 17:16:16</td>\n",
       "      <td>1644156976</td>\n",
       "      <td>cell</td>\n",
       "      <td>Verizon</td>\n",
       "      <td>US</td>\n",
       "      <td>NaN</td>\n",
       "    </tr>\n",
       "    <tr>\n",
       "      <th>6</th>\n",
       "      <td>JLzWWTJfi1b</td>\n",
       "      <td>10</td>\n",
       "      <td>Samsung</td>\n",
       "      <td>Galaxy S9</td>\n",
       "      <td>phone</td>\n",
       "      <td>en_US</td>\n",
       "      <td>c_ad_revenue</td>\n",
       "      <td>{\"ad_type\":\"banner\",\"placement\":\"\",\"view_index...</td>\n",
       "      <td>2022-02-06 17:16:03</td>\n",
       "      <td>1644156963</td>\n",
       "      <td>2022-02-06 17:16:16</td>\n",
       "      <td>1644156976</td>\n",
       "      <td>cell</td>\n",
       "      <td>Verizon</td>\n",
       "      <td>US</td>\n",
       "      <td>NaN</td>\n",
       "    </tr>\n",
       "    <tr>\n",
       "      <th>7</th>\n",
       "      <td>JLzWWTJfi1b</td>\n",
       "      <td>10</td>\n",
       "      <td>Samsung</td>\n",
       "      <td>Galaxy S9</td>\n",
       "      <td>phone</td>\n",
       "      <td>en_US</td>\n",
       "      <td>c_ad_revenue</td>\n",
       "      <td>{\"ad_type\":\"banner\",\"placement\":\"\",\"view_index...</td>\n",
       "      <td>2022-02-06 17:16:23</td>\n",
       "      <td>1644156983</td>\n",
       "      <td>2022-02-06 17:17:11</td>\n",
       "      <td>1644157031</td>\n",
       "      <td>cell</td>\n",
       "      <td>Verizon</td>\n",
       "      <td>US</td>\n",
       "      <td>NaN</td>\n",
       "    </tr>\n",
       "    <tr>\n",
       "      <th>8</th>\n",
       "      <td>JLzWWTJfi1b</td>\n",
       "      <td>10</td>\n",
       "      <td>Samsung</td>\n",
       "      <td>Galaxy S9</td>\n",
       "      <td>phone</td>\n",
       "      <td>en_US</td>\n",
       "      <td>c_ad_revenue</td>\n",
       "      <td>{\"ad_type\":\"banner\",\"placement\":\"\",\"view_index...</td>\n",
       "      <td>2022-02-06 17:16:33</td>\n",
       "      <td>1644156993</td>\n",
       "      <td>2022-02-06 17:17:11</td>\n",
       "      <td>1644157031</td>\n",
       "      <td>cell</td>\n",
       "      <td>Verizon</td>\n",
       "      <td>US</td>\n",
       "      <td>NaN</td>\n",
       "    </tr>\n",
       "    <tr>\n",
       "      <th>9</th>\n",
       "      <td>JLzWWTJfi1b</td>\n",
       "      <td>10</td>\n",
       "      <td>Samsung</td>\n",
       "      <td>Galaxy S9</td>\n",
       "      <td>phone</td>\n",
       "      <td>en_US</td>\n",
       "      <td>c_ad_revenue</td>\n",
       "      <td>{\"ad_type\":\"banner\",\"placement\":\"\",\"view_index...</td>\n",
       "      <td>2022-02-06 17:16:53</td>\n",
       "      <td>1644157013</td>\n",
       "      <td>2022-02-06 17:17:11</td>\n",
       "      <td>1644157031</td>\n",
       "      <td>cell</td>\n",
       "      <td>Verizon</td>\n",
       "      <td>US</td>\n",
       "      <td>NaN</td>\n",
       "    </tr>\n",
       "  </tbody>\n",
       "</table>\n",
       "</div>"
      ],
      "text/plain": [
       "    profile_id os_version device_manufacturer   device_model device_type  \\\n",
       "0  JLjpGzDHBQm         11             Samsung  Galaxy Tab S6      tablet   \n",
       "1  JLjpGzDHBQm         11             Samsung  Galaxy Tab S6      tablet   \n",
       "2  JLkVacrzHY6         11              Google        Pixel 2       phone   \n",
       "3  JMC6wG3cX0f         10             Samsung      Galaxy S9       phone   \n",
       "4  JLzWWTJfi1b         10             Samsung      Galaxy S9       phone   \n",
       "5  JLzWWTJfi1b         10             Samsung      Galaxy S9       phone   \n",
       "6  JLzWWTJfi1b         10             Samsung      Galaxy S9       phone   \n",
       "7  JLzWWTJfi1b         10             Samsung      Galaxy S9       phone   \n",
       "8  JLzWWTJfi1b         10             Samsung      Galaxy S9       phone   \n",
       "9  JLzWWTJfi1b         10             Samsung      Galaxy S9       phone   \n",
       "\n",
       "  device_locale    event_name  \\\n",
       "0         en_US  c_ad_revenue   \n",
       "1         en_US  c_ad_revenue   \n",
       "2         en_US  c_ad_revenue   \n",
       "3         en_US  c_ad_revenue   \n",
       "4         en_US  c_ad_revenue   \n",
       "5         en_US  c_ad_revenue   \n",
       "6         en_US  c_ad_revenue   \n",
       "7         en_US  c_ad_revenue   \n",
       "8         en_US  c_ad_revenue   \n",
       "9         en_US  c_ad_revenue   \n",
       "\n",
       "                                          event_json       event_datetime  \\\n",
       "0  {\"ad_type\":\"banner\",\"placement\":\"\",\"view_index...  2022-02-04 20:02:28   \n",
       "1  {\"ad_type\":\"banner\",\"placement\":\"\",\"view_index...  2022-02-04 20:02:45   \n",
       "2  {\"ad_type\":\"banner\",\"placement\":\"\",\"view_index...  2022-02-05 17:53:05   \n",
       "3  {\"ad_type\":\"int\",\"placement\":\"next_level\",\"vie...  2022-02-06 17:09:01   \n",
       "4  {\"ad_type\":\"banner\",\"placement\":\"\",\"view_index...  2022-02-06 17:15:38   \n",
       "5  {\"ad_type\":\"banner\",\"placement\":\"\",\"view_index...  2022-02-06 17:15:53   \n",
       "6  {\"ad_type\":\"banner\",\"placement\":\"\",\"view_index...  2022-02-06 17:16:03   \n",
       "7  {\"ad_type\":\"banner\",\"placement\":\"\",\"view_index...  2022-02-06 17:16:23   \n",
       "8  {\"ad_type\":\"banner\",\"placement\":\"\",\"view_index...  2022-02-06 17:16:33   \n",
       "9  {\"ad_type\":\"banner\",\"placement\":\"\",\"view_index...  2022-02-06 17:16:53   \n",
       "\n",
       "   event_timestamp event_receive_datetime  event_receive_timestamp  \\\n",
       "0       1643994148    2022-02-06 17:58:19               1644159499   \n",
       "1       1643994165    2022-02-06 17:58:19               1644159499   \n",
       "2       1644072785    2022-02-06 16:59:29               1644155969   \n",
       "3       1644156541    2022-02-06 17:09:24               1644156564   \n",
       "4       1644156938    2022-02-06 17:16:16               1644156976   \n",
       "5       1644156953    2022-02-06 17:16:16               1644156976   \n",
       "6       1644156963    2022-02-06 17:16:16               1644156976   \n",
       "7       1644156983    2022-02-06 17:17:11               1644157031   \n",
       "8       1644156993    2022-02-06 17:17:11               1644157031   \n",
       "9       1644157013    2022-02-06 17:17:11               1644157031   \n",
       "\n",
       "  connection_type operator_name country_iso_code       city  \n",
       "0            wifi           NaN               US    Norwalk  \n",
       "1            wifi           NaN               US    Norwalk  \n",
       "2            wifi       Verizon               US  Charlotte  \n",
       "3            wifi      T-Mobile               US      Cocoa  \n",
       "4            cell      Verizon                US        NaN  \n",
       "5            cell      Verizon                US        NaN  \n",
       "6            cell      Verizon                US        NaN  \n",
       "7            cell      Verizon                US        NaN  \n",
       "8            cell      Verizon                US        NaN  \n",
       "9            cell      Verizon                US        NaN  "
      ]
     },
     "metadata": {},
     "output_type": "display_data"
    }
   ],
   "source": [
    "display(ad_revenue.head(10))"
   ]
  },
  {
   "cell_type": "markdown",
   "id": "3865f471",
   "metadata": {},
   "source": [
    "**Вывод:**  \n",
    "* Данные загружены корректно"
   ]
  },
  {
   "cell_type": "markdown",
   "id": "0b89e452",
   "metadata": {},
   "source": [
    "### Оценка данных"
   ]
  },
  {
   "cell_type": "code",
   "execution_count": 4,
   "id": "0fab7e2f",
   "metadata": {},
   "outputs": [],
   "source": [
    "def function(df):\n",
    "    print ('------------- Краткая информация ------------')\n",
    "    display(df.head())\n",
    "    print ('*'*50)\n",
    "    print ('------------- Сводные данные ------------')\n",
    "    print(df.info())\n",
    "    print ('*'*50)\n",
    "    print ('------------- Количество пропусков ------------')\n",
    "    print(df.isna().sum())\n",
    "    print ('*'*50)\n",
    "    print ('------------- Проверка наличия явных дубликатов ------------')\n",
    "    if df.duplicated().sum() > 0:\n",
    "        print ('Явных дубликатов - ', df.duplicated().sum())\n",
    "    else:\n",
    "        print ('Явных дубликатов нет')\n",
    "    print ('*'*50)\n",
    "    print ('------------- Количество уникальных значений ------------')\n",
    "    for i in df.columns:\n",
    "        print(f'в столбце {i} уникальных значений - {df[i].nunique()}')"
   ]
  },
  {
   "cell_type": "code",
   "execution_count": 5,
   "id": "671fa028",
   "metadata": {},
   "outputs": [
    {
     "name": "stdout",
     "output_type": "stream",
     "text": [
      "------------- Краткая информация ------------\n"
     ]
    },
    {
     "data": {
      "text/html": [
       "<div>\n",
       "<style scoped>\n",
       "    .dataframe tbody tr th:only-of-type {\n",
       "        vertical-align: middle;\n",
       "    }\n",
       "\n",
       "    .dataframe tbody tr th {\n",
       "        vertical-align: top;\n",
       "    }\n",
       "\n",
       "    .dataframe thead th {\n",
       "        text-align: right;\n",
       "    }\n",
       "</style>\n",
       "<table border=\"1\" class=\"dataframe\">\n",
       "  <thead>\n",
       "    <tr style=\"text-align: right;\">\n",
       "      <th></th>\n",
       "      <th>profile_id</th>\n",
       "      <th>os_version</th>\n",
       "      <th>device_manufacturer</th>\n",
       "      <th>device_model</th>\n",
       "      <th>device_type</th>\n",
       "      <th>device_locale</th>\n",
       "      <th>event_name</th>\n",
       "      <th>event_json</th>\n",
       "      <th>event_datetime</th>\n",
       "      <th>event_timestamp</th>\n",
       "      <th>event_receive_datetime</th>\n",
       "      <th>event_receive_timestamp</th>\n",
       "      <th>connection_type</th>\n",
       "      <th>operator_name</th>\n",
       "      <th>country_iso_code</th>\n",
       "      <th>city</th>\n",
       "    </tr>\n",
       "  </thead>\n",
       "  <tbody>\n",
       "    <tr>\n",
       "      <th>0</th>\n",
       "      <td>JLjpGzDHBQm</td>\n",
       "      <td>11</td>\n",
       "      <td>Samsung</td>\n",
       "      <td>Galaxy Tab S6</td>\n",
       "      <td>tablet</td>\n",
       "      <td>en_US</td>\n",
       "      <td>c_ad_revenue</td>\n",
       "      <td>{\"ad_type\":\"banner\",\"placement\":\"\",\"view_index...</td>\n",
       "      <td>2022-02-04 20:02:28</td>\n",
       "      <td>1643994148</td>\n",
       "      <td>2022-02-06 17:58:19</td>\n",
       "      <td>1644159499</td>\n",
       "      <td>wifi</td>\n",
       "      <td>NaN</td>\n",
       "      <td>US</td>\n",
       "      <td>Norwalk</td>\n",
       "    </tr>\n",
       "    <tr>\n",
       "      <th>1</th>\n",
       "      <td>JLjpGzDHBQm</td>\n",
       "      <td>11</td>\n",
       "      <td>Samsung</td>\n",
       "      <td>Galaxy Tab S6</td>\n",
       "      <td>tablet</td>\n",
       "      <td>en_US</td>\n",
       "      <td>c_ad_revenue</td>\n",
       "      <td>{\"ad_type\":\"banner\",\"placement\":\"\",\"view_index...</td>\n",
       "      <td>2022-02-04 20:02:45</td>\n",
       "      <td>1643994165</td>\n",
       "      <td>2022-02-06 17:58:19</td>\n",
       "      <td>1644159499</td>\n",
       "      <td>wifi</td>\n",
       "      <td>NaN</td>\n",
       "      <td>US</td>\n",
       "      <td>Norwalk</td>\n",
       "    </tr>\n",
       "    <tr>\n",
       "      <th>2</th>\n",
       "      <td>JLkVacrzHY6</td>\n",
       "      <td>11</td>\n",
       "      <td>Google</td>\n",
       "      <td>Pixel 2</td>\n",
       "      <td>phone</td>\n",
       "      <td>en_US</td>\n",
       "      <td>c_ad_revenue</td>\n",
       "      <td>{\"ad_type\":\"banner\",\"placement\":\"\",\"view_index...</td>\n",
       "      <td>2022-02-05 17:53:05</td>\n",
       "      <td>1644072785</td>\n",
       "      <td>2022-02-06 16:59:29</td>\n",
       "      <td>1644155969</td>\n",
       "      <td>wifi</td>\n",
       "      <td>Verizon</td>\n",
       "      <td>US</td>\n",
       "      <td>Charlotte</td>\n",
       "    </tr>\n",
       "    <tr>\n",
       "      <th>3</th>\n",
       "      <td>JMC6wG3cX0f</td>\n",
       "      <td>10</td>\n",
       "      <td>Samsung</td>\n",
       "      <td>Galaxy S9</td>\n",
       "      <td>phone</td>\n",
       "      <td>en_US</td>\n",
       "      <td>c_ad_revenue</td>\n",
       "      <td>{\"ad_type\":\"int\",\"placement\":\"next_level\",\"vie...</td>\n",
       "      <td>2022-02-06 17:09:01</td>\n",
       "      <td>1644156541</td>\n",
       "      <td>2022-02-06 17:09:24</td>\n",
       "      <td>1644156564</td>\n",
       "      <td>wifi</td>\n",
       "      <td>T-Mobile</td>\n",
       "      <td>US</td>\n",
       "      <td>Cocoa</td>\n",
       "    </tr>\n",
       "    <tr>\n",
       "      <th>4</th>\n",
       "      <td>JLzWWTJfi1b</td>\n",
       "      <td>10</td>\n",
       "      <td>Samsung</td>\n",
       "      <td>Galaxy S9</td>\n",
       "      <td>phone</td>\n",
       "      <td>en_US</td>\n",
       "      <td>c_ad_revenue</td>\n",
       "      <td>{\"ad_type\":\"banner\",\"placement\":\"\",\"view_index...</td>\n",
       "      <td>2022-02-06 17:15:38</td>\n",
       "      <td>1644156938</td>\n",
       "      <td>2022-02-06 17:16:16</td>\n",
       "      <td>1644156976</td>\n",
       "      <td>cell</td>\n",
       "      <td>Verizon</td>\n",
       "      <td>US</td>\n",
       "      <td>NaN</td>\n",
       "    </tr>\n",
       "  </tbody>\n",
       "</table>\n",
       "</div>"
      ],
      "text/plain": [
       "    profile_id os_version device_manufacturer   device_model device_type  \\\n",
       "0  JLjpGzDHBQm         11             Samsung  Galaxy Tab S6      tablet   \n",
       "1  JLjpGzDHBQm         11             Samsung  Galaxy Tab S6      tablet   \n",
       "2  JLkVacrzHY6         11              Google        Pixel 2       phone   \n",
       "3  JMC6wG3cX0f         10             Samsung      Galaxy S9       phone   \n",
       "4  JLzWWTJfi1b         10             Samsung      Galaxy S9       phone   \n",
       "\n",
       "  device_locale    event_name  \\\n",
       "0         en_US  c_ad_revenue   \n",
       "1         en_US  c_ad_revenue   \n",
       "2         en_US  c_ad_revenue   \n",
       "3         en_US  c_ad_revenue   \n",
       "4         en_US  c_ad_revenue   \n",
       "\n",
       "                                          event_json       event_datetime  \\\n",
       "0  {\"ad_type\":\"banner\",\"placement\":\"\",\"view_index...  2022-02-04 20:02:28   \n",
       "1  {\"ad_type\":\"banner\",\"placement\":\"\",\"view_index...  2022-02-04 20:02:45   \n",
       "2  {\"ad_type\":\"banner\",\"placement\":\"\",\"view_index...  2022-02-05 17:53:05   \n",
       "3  {\"ad_type\":\"int\",\"placement\":\"next_level\",\"vie...  2022-02-06 17:09:01   \n",
       "4  {\"ad_type\":\"banner\",\"placement\":\"\",\"view_index...  2022-02-06 17:15:38   \n",
       "\n",
       "   event_timestamp event_receive_datetime  event_receive_timestamp  \\\n",
       "0       1643994148    2022-02-06 17:58:19               1644159499   \n",
       "1       1643994165    2022-02-06 17:58:19               1644159499   \n",
       "2       1644072785    2022-02-06 16:59:29               1644155969   \n",
       "3       1644156541    2022-02-06 17:09:24               1644156564   \n",
       "4       1644156938    2022-02-06 17:16:16               1644156976   \n",
       "\n",
       "  connection_type operator_name country_iso_code       city  \n",
       "0            wifi           NaN               US    Norwalk  \n",
       "1            wifi           NaN               US    Norwalk  \n",
       "2            wifi       Verizon               US  Charlotte  \n",
       "3            wifi      T-Mobile               US      Cocoa  \n",
       "4            cell      Verizon                US        NaN  "
      ]
     },
     "metadata": {},
     "output_type": "display_data"
    },
    {
     "name": "stdout",
     "output_type": "stream",
     "text": [
      "**************************************************\n",
      "------------- Сводные данные ------------\n",
      "<class 'pandas.core.frame.DataFrame'>\n",
      "RangeIndex: 860079 entries, 0 to 860078\n",
      "Data columns (total 16 columns):\n",
      " #   Column                   Non-Null Count   Dtype \n",
      "---  ------                   --------------   ----- \n",
      " 0   profile_id               860065 non-null  object\n",
      " 1   os_version               860079 non-null  object\n",
      " 2   device_manufacturer      860079 non-null  object\n",
      " 3   device_model             860079 non-null  object\n",
      " 4   device_type              860079 non-null  object\n",
      " 5   device_locale            860079 non-null  object\n",
      " 6   event_name               860079 non-null  object\n",
      " 7   event_json               860079 non-null  object\n",
      " 8   event_datetime           860079 non-null  object\n",
      " 9   event_timestamp          860079 non-null  int64 \n",
      " 10  event_receive_datetime   860079 non-null  object\n",
      " 11  event_receive_timestamp  860079 non-null  int64 \n",
      " 12  connection_type          860079 non-null  object\n",
      " 13  operator_name            841200 non-null  object\n",
      " 14  country_iso_code         860079 non-null  object\n",
      " 15  city                     536371 non-null  object\n",
      "dtypes: int64(2), object(14)\n",
      "memory usage: 105.0+ MB\n",
      "None\n",
      "**************************************************\n",
      "------------- Количество пропусков ------------\n",
      "profile_id                     14\n",
      "os_version                      0\n",
      "device_manufacturer             0\n",
      "device_model                    0\n",
      "device_type                     0\n",
      "device_locale                   0\n",
      "event_name                      0\n",
      "event_json                      0\n",
      "event_datetime                  0\n",
      "event_timestamp                 0\n",
      "event_receive_datetime          0\n",
      "event_receive_timestamp         0\n",
      "connection_type                 0\n",
      "operator_name               18879\n",
      "country_iso_code                0\n",
      "city                       323708\n",
      "dtype: int64\n",
      "**************************************************\n",
      "------------- Проверка наличия явных дубликатов ------------\n",
      "Явных дубликатов нет\n",
      "**************************************************\n",
      "------------- Количество уникальных значений ------------\n",
      "в столбце profile_id уникальных значений - 4226\n",
      "в столбце os_version уникальных значений - 11\n",
      "в столбце device_manufacturer уникальных значений - 34\n",
      "в столбце device_model уникальных значений - 284\n",
      "в столбце device_type уникальных значений - 2\n",
      "в столбце device_locale уникальных значений - 9\n",
      "в столбце event_name уникальных значений - 1\n",
      "в столбце event_json уникальных значений - 860076\n",
      "в столбце event_datetime уникальных значений - 322812\n",
      "в столбце event_timestamp уникальных значений - 322812\n",
      "в столбце event_receive_datetime уникальных значений - 180237\n",
      "в столбце event_receive_timestamp уникальных значений - 180237\n",
      "в столбце connection_type уникальных значений - 3\n",
      "в столбце operator_name уникальных значений - 92\n",
      "в столбце country_iso_code уникальных значений - 1\n",
      "в столбце city уникальных значений - 920\n"
     ]
    }
   ],
   "source": [
    "function(ad_revenue)"
   ]
  },
  {
   "cell_type": "code",
   "execution_count": 6,
   "id": "999f7f2c",
   "metadata": {},
   "outputs": [
    {
     "data": {
      "text/plain": [
       "{'ad_type': 'banner',\n",
       " 'placement': '',\n",
       " 'view_index': 1,\n",
       " 'session_view_index': 0,\n",
       " 'cur_ticks': 637795729492245130,\n",
       " 'session_length': 705.8807,\n",
       " 'revenue': 0.000510313,\n",
       " 'ads_ltv': 0.487876676518837,\n",
       " 'ecpm_sma': 0.511508107185364,\n",
       " 'normalized_ecpm_sma': 0.511508107185364,\n",
       " 'value': 0.000510313,\n",
       " 'currency': 'USD',\n",
       " 'ad_country_code': 'US',\n",
       " 'network_name': 'Google AdMob',\n",
       " 'ad_unit_id': '64c6b1114ea8c1cc',\n",
       " 'ad_network_placement': 'ca-app-pub-7511632782617496/8825263691',\n",
       " 'creativeId': 'CJ3XirfD5vUCFYPnKAUdG3MOYQ'}"
      ]
     },
     "execution_count": 6,
     "metadata": {},
     "output_type": "execute_result"
    }
   ],
   "source": [
    "# посмотрим что содержит event_json\n",
    "json.loads(ad_revenue['event_json'][0])"
   ]
  },
  {
   "cell_type": "markdown",
   "id": "3461b3cf",
   "metadata": {},
   "source": [
    "**Вывод:**  \n",
    "* Датафрейм содержит 16 столбцов и 860079 строк\n",
    "* event_datetime, event_receive_datetime требуется привести к типу datatime\n",
    "* profile_id имеет пропуски, количество менее 1% - удалим, не повлияет на исследование\n",
    "* operator_name имеет пропуски, связанные с оператором wifi, заменим \"заглушкой\"\n",
    "* city имеет пропуски более 37%, заменим \"заглушкой\"\n",
    "* запишем данные из event_json в отдельные столбцы"
   ]
  },
  {
   "cell_type": "markdown",
   "id": "9ec53b05",
   "metadata": {},
   "source": [
    "### Предобработка данных"
   ]
  },
  {
   "cell_type": "code",
   "execution_count": 7,
   "id": "ba22e162",
   "metadata": {},
   "outputs": [],
   "source": [
    "# Переведем тип данных в `datetime`\n",
    "ad_revenue['event_datetime'] = pd.to_datetime(ad_revenue['event_datetime'])\n",
    "ad_revenue['event_receive_datetime'] = pd.to_datetime(ad_revenue['event_receive_datetime'])"
   ]
  },
  {
   "cell_type": "code",
   "execution_count": 8,
   "id": "44604708",
   "metadata": {},
   "outputs": [],
   "source": [
    "# удалим пропуски profile_id\n",
    "ad_revenue = ad_revenue.dropna(subset = ['profile_id'])"
   ]
  },
  {
   "cell_type": "code",
   "execution_count": 9,
   "id": "7c71640b",
   "metadata": {
    "scrolled": true
   },
   "outputs": [],
   "source": [
    "# заменим пропуски значением 'nan'\n",
    "ad_revenue['operator_name'] = ad_revenue['operator_name'].fillna('nan')\n",
    "ad_revenue['city'] = ad_revenue['city'].fillna('nan')"
   ]
  },
  {
   "cell_type": "code",
   "execution_count": 10,
   "id": "be0af4f0",
   "metadata": {},
   "outputs": [],
   "source": [
    "# представим данные в json формате\n",
    "ad_revenue['event_json'] = ad_revenue['event_json'].apply(json.loads)"
   ]
  },
  {
   "cell_type": "code",
   "execution_count": 11,
   "id": "545e5c06",
   "metadata": {},
   "outputs": [],
   "source": [
    "# плучим данные из event_json и занесем их в столбцы отдельно\n",
    "def ad_type(name):\n",
    "    a = name['event_json']['ad_type']\n",
    "    return a\n",
    "def placement(name):\n",
    "    a = name['event_json']['placement']\n",
    "    return a\n",
    "def view_index(name):\n",
    "    a = name['event_json']['view_index']\n",
    "    return a\n",
    "def eCPM(name):\n",
    "    a = name['event_json']['revenue'] / 1000\n",
    "    return a\n",
    "def ads_ltv(name):\n",
    "    a = name['event_json']['ads_ltv']\n",
    "    return a\n",
    "def network_name(name):\n",
    "    a = name['event_json']['network_name']\n",
    "    return a"
   ]
  },
  {
   "cell_type": "code",
   "execution_count": 12,
   "id": "4f6bad82",
   "metadata": {},
   "outputs": [],
   "source": [
    "ad_revenue['ad_type'] = ad_revenue.apply(ad_type, axis=1)\n",
    "ad_revenue['placement'] = ad_revenue.apply(placement, axis=1)\n",
    "ad_revenue['view_index'] = ad_revenue.apply(view_index, axis=1)\n",
    "ad_revenue['eCPM'] = ad_revenue.apply(eCPM, axis=1)\n",
    "ad_revenue['ads_ltv'] = ad_revenue.apply(ads_ltv, axis=1)\n",
    "ad_revenue['network_name'] = ad_revenue.apply(network_name, axis=1)"
   ]
  },
  {
   "cell_type": "code",
   "execution_count": 13,
   "id": "1d910fc9",
   "metadata": {},
   "outputs": [
    {
     "data": {
      "text/html": [
       "<div>\n",
       "<style scoped>\n",
       "    .dataframe tbody tr th:only-of-type {\n",
       "        vertical-align: middle;\n",
       "    }\n",
       "\n",
       "    .dataframe tbody tr th {\n",
       "        vertical-align: top;\n",
       "    }\n",
       "\n",
       "    .dataframe thead th {\n",
       "        text-align: right;\n",
       "    }\n",
       "</style>\n",
       "<table border=\"1\" class=\"dataframe\">\n",
       "  <thead>\n",
       "    <tr style=\"text-align: right;\">\n",
       "      <th></th>\n",
       "      <th>profile_id</th>\n",
       "      <th>os_version</th>\n",
       "      <th>device_manufacturer</th>\n",
       "      <th>device_model</th>\n",
       "      <th>device_type</th>\n",
       "      <th>device_locale</th>\n",
       "      <th>event_name</th>\n",
       "      <th>event_json</th>\n",
       "      <th>event_datetime</th>\n",
       "      <th>event_timestamp</th>\n",
       "      <th>...</th>\n",
       "      <th>connection_type</th>\n",
       "      <th>operator_name</th>\n",
       "      <th>country_iso_code</th>\n",
       "      <th>city</th>\n",
       "      <th>ad_type</th>\n",
       "      <th>placement</th>\n",
       "      <th>view_index</th>\n",
       "      <th>eCPM</th>\n",
       "      <th>ads_ltv</th>\n",
       "      <th>network_name</th>\n",
       "    </tr>\n",
       "  </thead>\n",
       "  <tbody>\n",
       "    <tr>\n",
       "      <th>860074</th>\n",
       "      <td>JLSQY2nx1NQ</td>\n",
       "      <td>12</td>\n",
       "      <td>Samsung</td>\n",
       "      <td>Galaxy S21 Ultra 5G</td>\n",
       "      <td>phone</td>\n",
       "      <td>en_US</td>\n",
       "      <td>c_ad_revenue</td>\n",
       "      <td>{'ad_type': 'banner', 'placement': '', 'view_i...</td>\n",
       "      <td>2022-02-03 08:29:27</td>\n",
       "      <td>1643866167</td>\n",
       "      <td>...</td>\n",
       "      <td>wifi</td>\n",
       "      <td>Verizon</td>\n",
       "      <td>US</td>\n",
       "      <td>Elmira</td>\n",
       "      <td>banner</td>\n",
       "      <td></td>\n",
       "      <td>1</td>\n",
       "      <td>1.997224e-08</td>\n",
       "      <td>1.007506</td>\n",
       "      <td>APPLOVIN_EXCHANGE</td>\n",
       "    </tr>\n",
       "    <tr>\n",
       "      <th>860075</th>\n",
       "      <td>JLKWwju79CA</td>\n",
       "      <td>12</td>\n",
       "      <td>Samsung</td>\n",
       "      <td>SM-G991U</td>\n",
       "      <td>phone</td>\n",
       "      <td>en_US</td>\n",
       "      <td>c_ad_revenue</td>\n",
       "      <td>{'ad_type': 'banner', 'placement': '', 'view_i...</td>\n",
       "      <td>2022-02-03 02:12:51</td>\n",
       "      <td>1643843571</td>\n",
       "      <td>...</td>\n",
       "      <td>cell</td>\n",
       "      <td>Verizon</td>\n",
       "      <td>US</td>\n",
       "      <td>Cherry Hill</td>\n",
       "      <td>banner</td>\n",
       "      <td></td>\n",
       "      <td>1</td>\n",
       "      <td>6.740355e-06</td>\n",
       "      <td>0.277541</td>\n",
       "      <td>Google AdMob</td>\n",
       "    </tr>\n",
       "    <tr>\n",
       "      <th>860076</th>\n",
       "      <td>JLKWwju79CA</td>\n",
       "      <td>12</td>\n",
       "      <td>Samsung</td>\n",
       "      <td>SM-G991U</td>\n",
       "      <td>phone</td>\n",
       "      <td>en_US</td>\n",
       "      <td>c_ad_revenue</td>\n",
       "      <td>{'ad_type': 'banner', 'placement': '', 'view_i...</td>\n",
       "      <td>2022-02-03 02:13:06</td>\n",
       "      <td>1643843586</td>\n",
       "      <td>...</td>\n",
       "      <td>cell</td>\n",
       "      <td>Verizon</td>\n",
       "      <td>US</td>\n",
       "      <td>Cherry Hill</td>\n",
       "      <td>banner</td>\n",
       "      <td></td>\n",
       "      <td>1</td>\n",
       "      <td>2.780058e-06</td>\n",
       "      <td>0.280321</td>\n",
       "      <td>Google AdMob</td>\n",
       "    </tr>\n",
       "    <tr>\n",
       "      <th>860077</th>\n",
       "      <td>JLKWwju79CA</td>\n",
       "      <td>12</td>\n",
       "      <td>Samsung</td>\n",
       "      <td>SM-G991U</td>\n",
       "      <td>phone</td>\n",
       "      <td>en_US</td>\n",
       "      <td>c_ad_revenue</td>\n",
       "      <td>{'ad_type': 'banner', 'placement': '', 'view_i...</td>\n",
       "      <td>2022-02-03 02:13:17</td>\n",
       "      <td>1643843597</td>\n",
       "      <td>...</td>\n",
       "      <td>cell</td>\n",
       "      <td>Verizon</td>\n",
       "      <td>US</td>\n",
       "      <td>Cherry Hill</td>\n",
       "      <td>banner</td>\n",
       "      <td></td>\n",
       "      <td>1</td>\n",
       "      <td>2.780058e-06</td>\n",
       "      <td>0.283101</td>\n",
       "      <td>Google AdMob</td>\n",
       "    </tr>\n",
       "    <tr>\n",
       "      <th>860078</th>\n",
       "      <td>JLKWwju79CA</td>\n",
       "      <td>12</td>\n",
       "      <td>Samsung</td>\n",
       "      <td>SM-G991U</td>\n",
       "      <td>phone</td>\n",
       "      <td>en_US</td>\n",
       "      <td>c_ad_revenue</td>\n",
       "      <td>{'ad_type': 'banner', 'placement': '', 'view_i...</td>\n",
       "      <td>2022-02-03 03:11:44</td>\n",
       "      <td>1643847104</td>\n",
       "      <td>...</td>\n",
       "      <td>cell</td>\n",
       "      <td>Verizon</td>\n",
       "      <td>US</td>\n",
       "      <td>Cherry Hill</td>\n",
       "      <td>banner</td>\n",
       "      <td></td>\n",
       "      <td>1</td>\n",
       "      <td>2.780058e-06</td>\n",
       "      <td>0.285881</td>\n",
       "      <td>Google AdMob</td>\n",
       "    </tr>\n",
       "  </tbody>\n",
       "</table>\n",
       "<p>5 rows × 22 columns</p>\n",
       "</div>"
      ],
      "text/plain": [
       "         profile_id os_version device_manufacturer         device_model  \\\n",
       "860074  JLSQY2nx1NQ         12             Samsung  Galaxy S21 Ultra 5G   \n",
       "860075  JLKWwju79CA         12             Samsung             SM-G991U   \n",
       "860076  JLKWwju79CA         12             Samsung             SM-G991U   \n",
       "860077  JLKWwju79CA         12             Samsung             SM-G991U   \n",
       "860078  JLKWwju79CA         12             Samsung             SM-G991U   \n",
       "\n",
       "       device_type device_locale    event_name  \\\n",
       "860074       phone         en_US  c_ad_revenue   \n",
       "860075       phone         en_US  c_ad_revenue   \n",
       "860076       phone         en_US  c_ad_revenue   \n",
       "860077       phone         en_US  c_ad_revenue   \n",
       "860078       phone         en_US  c_ad_revenue   \n",
       "\n",
       "                                               event_json      event_datetime  \\\n",
       "860074  {'ad_type': 'banner', 'placement': '', 'view_i... 2022-02-03 08:29:27   \n",
       "860075  {'ad_type': 'banner', 'placement': '', 'view_i... 2022-02-03 02:12:51   \n",
       "860076  {'ad_type': 'banner', 'placement': '', 'view_i... 2022-02-03 02:13:06   \n",
       "860077  {'ad_type': 'banner', 'placement': '', 'view_i... 2022-02-03 02:13:17   \n",
       "860078  {'ad_type': 'banner', 'placement': '', 'view_i... 2022-02-03 03:11:44   \n",
       "\n",
       "        event_timestamp  ... connection_type  operator_name country_iso_code  \\\n",
       "860074       1643866167  ...            wifi       Verizon                US   \n",
       "860075       1643843571  ...            cell       Verizon                US   \n",
       "860076       1643843586  ...            cell       Verizon                US   \n",
       "860077       1643843597  ...            cell       Verizon                US   \n",
       "860078       1643847104  ...            cell       Verizon                US   \n",
       "\n",
       "               city ad_type placement view_index          eCPM   ads_ltv  \\\n",
       "860074       Elmira  banner                    1  1.997224e-08  1.007506   \n",
       "860075  Cherry Hill  banner                    1  6.740355e-06  0.277541   \n",
       "860076  Cherry Hill  banner                    1  2.780058e-06  0.280321   \n",
       "860077  Cherry Hill  banner                    1  2.780058e-06  0.283101   \n",
       "860078  Cherry Hill  banner                    1  2.780058e-06  0.285881   \n",
       "\n",
       "             network_name  \n",
       "860074  APPLOVIN_EXCHANGE  \n",
       "860075       Google AdMob  \n",
       "860076       Google AdMob  \n",
       "860077       Google AdMob  \n",
       "860078       Google AdMob  \n",
       "\n",
       "[5 rows x 22 columns]"
      ]
     },
     "execution_count": 13,
     "metadata": {},
     "output_type": "execute_result"
    }
   ],
   "source": [
    "ad_revenue.tail()"
   ]
  },
  {
   "cell_type": "markdown",
   "id": "0964745f",
   "metadata": {},
   "source": [
    "**Вывод:**  \n",
    "* Тип данных приведен в соответствие\n",
    "* Пропуски удалены или заменены \"заглушкой\"\n",
    "* Данные из event_json извлечены и записаны отдельно"
   ]
  },
  {
   "cell_type": "markdown",
   "id": "8b5498e8",
   "metadata": {},
   "source": [
    "### Анализ данных"
   ]
  },
  {
   "cell_type": "markdown",
   "id": "54f64a36",
   "metadata": {},
   "source": [
    "#### Для каждого формата рекламы построим распределение средних eCPM-ов юзеров"
   ]
  },
  {
   "cell_type": "code",
   "execution_count": 14,
   "id": "a241f7ed",
   "metadata": {},
   "outputs": [
    {
     "data": {
      "text/html": [
       "<div>\n",
       "<style scoped>\n",
       "    .dataframe tbody tr th:only-of-type {\n",
       "        vertical-align: middle;\n",
       "    }\n",
       "\n",
       "    .dataframe tbody tr th {\n",
       "        vertical-align: top;\n",
       "    }\n",
       "\n",
       "    .dataframe thead th {\n",
       "        text-align: right;\n",
       "    }\n",
       "</style>\n",
       "<table border=\"1\" class=\"dataframe\">\n",
       "  <thead>\n",
       "    <tr style=\"text-align: right;\">\n",
       "      <th></th>\n",
       "      <th>count</th>\n",
       "      <th>mean</th>\n",
       "      <th>median</th>\n",
       "      <th>std</th>\n",
       "      <th>sum</th>\n",
       "      <th>var</th>\n",
       "    </tr>\n",
       "    <tr>\n",
       "      <th>ad_type</th>\n",
       "      <th></th>\n",
       "      <th></th>\n",
       "      <th></th>\n",
       "      <th></th>\n",
       "      <th></th>\n",
       "      <th></th>\n",
       "    </tr>\n",
       "  </thead>\n",
       "  <tbody>\n",
       "    <tr>\n",
       "      <th>banner</th>\n",
       "      <td>815973</td>\n",
       "      <td>7.441164e-07</td>\n",
       "      <td>4.941960e-07</td>\n",
       "      <td>0.000001</td>\n",
       "      <td>0.607179</td>\n",
       "      <td>1.963590e-12</td>\n",
       "    </tr>\n",
       "    <tr>\n",
       "      <th>int</th>\n",
       "      <td>37610</td>\n",
       "      <td>3.621081e-05</td>\n",
       "      <td>2.139886e-05</td>\n",
       "      <td>0.000048</td>\n",
       "      <td>1.361889</td>\n",
       "      <td>2.322135e-09</td>\n",
       "    </tr>\n",
       "    <tr>\n",
       "      <th>rv</th>\n",
       "      <td>6482</td>\n",
       "      <td>6.505117e-05</td>\n",
       "      <td>3.146896e-05</td>\n",
       "      <td>0.000076</td>\n",
       "      <td>0.421662</td>\n",
       "      <td>5.764893e-09</td>\n",
       "    </tr>\n",
       "  </tbody>\n",
       "</table>\n",
       "</div>"
      ],
      "text/plain": [
       "          count          mean        median       std       sum           var\n",
       "ad_type                                                                      \n",
       "banner   815973  7.441164e-07  4.941960e-07  0.000001  0.607179  1.963590e-12\n",
       "int       37610  3.621081e-05  2.139886e-05  0.000048  1.361889  2.322135e-09\n",
       "rv         6482  6.505117e-05  3.146896e-05  0.000076  0.421662  5.764893e-09"
      ]
     },
     "execution_count": 14,
     "metadata": {},
     "output_type": "execute_result"
    }
   ],
   "source": [
    "ad_revenue.pivot_table(index='ad_type', values= 'eCPM' , aggfunc=('count', 'sum', 'mean', 'median', np.var, np.std))"
   ]
  },
  {
   "cell_type": "code",
   "execution_count": 15,
   "id": "92f7d69f",
   "metadata": {},
   "outputs": [
    {
     "data": {
      "image/png": "[encoded data removed]",
      "text/plain": [
       "<Figure size 432x288 with 1 Axes>"
      ]
     },
     "metadata": {
      "needs_background": "light"
     },
     "output_type": "display_data"
    },
    {
     "name": "stdout",
     "output_type": "stream",
     "text": [
      "Среднее значение средних eCPM - 7.441164488220084e-07\n",
      "Медианное значение средних eCPM - 4.941960000000001e-07\n",
      "95% значений средних eCPM до уровня - 4.061165497953411e-06 , остальные считаем выбросами\n"
     ]
    }
   ],
   "source": [
    "ad_revenue.query('ad_type == \"banner\"').pivot_table(index = 'profile_id', values='eCPM', aggfunc= 'mean').reset_index().query('eCPM > 0 & eCPM <= 4.061165497953411e-06').plot(kind = 'hist', bins = 100, alpha = 0.8, title = 'Распределение средних eCPM-ов юзеров, формат рекламы banner')\n",
    "plt.show()\n",
    "\n",
    "print('Среднее значение средних eCPM -', ad_revenue.query('ad_type == \"banner\"')['eCPM'].mean())\n",
    "print('Медианное значение средних eCPM -', ad_revenue.query('ad_type == \"banner\"')['eCPM'].median())\n",
    "print('95% значений средних eCPM до уровня -', \n",
    "      np.percentile(ad_revenue.query('ad_type == \"banner\"').pivot_table(index = 'profile_id', values='eCPM', aggfunc= 'mean')['eCPM'], [95])[0],\n",
    "      ', остальные считаем выбросами')"
   ]
  },
  {
   "cell_type": "code",
   "execution_count": 16,
   "id": "a5496c48",
   "metadata": {},
   "outputs": [
    {
     "data": {
      "image/png": "[encoded data removed]",
      "text/plain": [
       "<Figure size 432x288 with 1 Axes>"
      ]
     },
     "metadata": {
      "needs_background": "light"
     },
     "output_type": "display_data"
    },
    {
     "name": "stdout",
     "output_type": "stream",
     "text": [
      "Среднее значение средних eCPM - 3.6210812668218534e-05\n",
      "Медианное значение средних eCPM - 2.1398855324074097e-05\n",
      "95% значений средних eCPM до уровня - 0.00015145065643310549 , остальные считаем выбросами\n"
     ]
    }
   ],
   "source": [
    "ad_revenue.query('ad_type == \"int\"').pivot_table(index = 'profile_id', values='eCPM', aggfunc= 'mean').reset_index().query('eCPM > 0 & eCPM <= 0.00015145065643310549').plot(kind = 'hist', bins = 100, alpha = 0.8, title = 'Распределение средних eCPM-ов юзеров, формат рекламы int')\n",
    "plt.show()\n",
    "\n",
    "print('Среднее значение средних eCPM -', ad_revenue.query('ad_type == \"int\"')['eCPM'].mean())\n",
    "print('Медианное значение средних eCPM -', ad_revenue.query('ad_type == \"int\"')['eCPM'].median())\n",
    "print('95% значений средних eCPM до уровня -', \n",
    "      np.percentile(ad_revenue.query('ad_type == \"int\"').pivot_table(index = 'profile_id', values='eCPM', aggfunc= 'mean')['eCPM'], [95])[0],\n",
    "      ', остальные считаем выбросами')"
   ]
  },
  {
   "cell_type": "code",
   "execution_count": 17,
   "id": "3b1fc2b8",
   "metadata": {},
   "outputs": [
    {
     "data": {
      "image/png": "[encoded data removed]",
      "text/plain": [
       "<Figure size 432x288 with 1 Axes>"
      ]
     },
     "metadata": {
      "needs_background": "light"
     },
     "output_type": "display_data"
    },
    {
     "name": "stdout",
     "output_type": "stream",
     "text": [
      "Среднее значение средних eCPM - 6.5051165091083e-05\n",
      "Медианное значение средних eCPM - 3.14689611940299e-05\n",
      "95% значений средних eCPM до уровня - 0.0002117 , остальные считаем выбросами\n"
     ]
    }
   ],
   "source": [
    "ad_revenue.query('ad_type == \"rv\"').pivot_table(index = 'profile_id', values='eCPM', aggfunc= 'mean').reset_index().query('eCPM > 0 & eCPM <= 0.0002117').plot(kind = 'hist', bins = 100, alpha = 0.8, title = 'Распределение средних eCPM-ов юзеров, формат рекламы rv')\n",
    "plt.show()\n",
    "\n",
    "print('Среднее значение средних eCPM -', ad_revenue.query('ad_type == \"rv\"')['eCPM'].mean())\n",
    "print('Медианное значение средних eCPM -', ad_revenue.query('ad_type == \"rv\"')['eCPM'].median())\n",
    "print('95% значений средних eCPM до уровня -', \n",
    "      np.percentile(ad_revenue.query('ad_type == \"rv\"').pivot_table(index = 'profile_id', values='eCPM', aggfunc= 'mean')['eCPM'], [95])[0],\n",
    "      ', остальные считаем выбросами')"
   ]
  },
  {
   "cell_type": "markdown",
   "id": "f9e43e56",
   "metadata": {},
   "source": [
    "**Вывод:**  \n",
    "* Распределение средних eCPM по юзерам стремится к нормальному смещенному влево"
   ]
  },
  {
   "cell_type": "markdown",
   "id": "185ac68f",
   "metadata": {},
   "source": [
    "#### Для каждого формата рекламы построим распределение eCPM-ов по городам, версиям ОС"
   ]
  },
  {
   "cell_type": "code",
   "execution_count": 18,
   "id": "97654e46",
   "metadata": {},
   "outputs": [
    {
     "data": {
      "image/png": "[encoded data removed]",
      "text/plain": [
       "<Figure size 432x288 with 1 Axes>"
      ]
     },
     "metadata": {
      "needs_background": "light"
     },
     "output_type": "display_data"
    },
    {
     "name": "stdout",
     "output_type": "stream",
     "text": [
      "95% значений eCPM до уровня - 2631.6 , остальные считаем выбросами\n"
     ]
    }
   ],
   "source": [
    "ad_revenue.query('ad_type == \"banner\"').pivot_table(index = 'city', values='eCPM', aggfunc= 'count').reset_index().query('eCPM > 0 & eCPM <= 2631.6').plot(kind = 'hist', bins = 100, alpha = 0.8, title ='Распределение eCPM-ов по городам, формат рекламы banner')\n",
    "plt.show()\n",
    "\n",
    "print('95% значений eCPM до уровня -', \n",
    "      round(np.percentile(ad_revenue.query('ad_type == \"banner\"').pivot_table(index = 'city', values='eCPM', aggfunc= 'count')['eCPM'], [95])[0], 5),\n",
    "      ', остальные считаем выбросами')"
   ]
  },
  {
   "cell_type": "code",
   "execution_count": 19,
   "id": "93b56f24",
   "metadata": {},
   "outputs": [
    {
     "data": {
      "image/png": "[encoded data removed]",
      "text/plain": [
       "<Figure size 432x288 with 1 Axes>"
      ]
     },
     "metadata": {
      "needs_background": "light"
     },
     "output_type": "display_data"
    },
    {
     "name": "stdout",
     "output_type": "stream",
     "text": [
      "95% значений eCPM до уровня - 111.1 , остальные считаем выбросами\n"
     ]
    }
   ],
   "source": [
    "ad_revenue.query('ad_type == \"int\"').pivot_table(index = 'city', values='eCPM', aggfunc= 'count').reset_index().query('eCPM > 0 & eCPM <= 111.1').plot(kind = 'hist', bins = 100, alpha = 0.8, title = 'Распределение eCPM-ов по городам, формат рекламы int')\n",
    "plt.show()\n",
    "\n",
    "print('95% значений eCPM до уровня -', \n",
    "      round(np.percentile(ad_revenue.query('ad_type == \"int\"').pivot_table(index = 'city', values='eCPM', aggfunc= 'count')['eCPM'], [95])[0], 5),\n",
    "      ', остальные считаем выбросами')"
   ]
  },
  {
   "cell_type": "code",
   "execution_count": 20,
   "id": "ab1be565",
   "metadata": {},
   "outputs": [
    {
     "data": {
      "image/png": "[encoded data removed]",
      "text/plain": [
       "<Figure size 432x288 with 1 Axes>"
      ]
     },
     "metadata": {
      "needs_background": "light"
     },
     "output_type": "display_data"
    },
    {
     "name": "stdout",
     "output_type": "stream",
     "text": [
      "95% значений eCPM до уровня - 39.3 , остальные считаем выбросами\n"
     ]
    }
   ],
   "source": [
    "ad_revenue.query('ad_type == \"rv\"').pivot_table(index = 'city', values='eCPM', aggfunc= 'count').reset_index().query('eCPM > 0 & eCPM <= 39.3').plot(kind = 'hist', bins = 100, alpha = 0.8, title = 'Распределение eCPM-ов по городам, формат рекламы rv')\n",
    "plt.show()\n",
    "\n",
    "print('95% значений eCPM до уровня -', \n",
    "      round(np.percentile(ad_revenue.query('ad_type == \"rv\"').pivot_table(index = 'city', values='eCPM', aggfunc= 'count')['eCPM'], [95])[0], 5),\n",
    "      ', остальные считаем выбросами')"
   ]
  },
  {
   "cell_type": "code",
   "execution_count": 21,
   "id": "fb208bcc",
   "metadata": {},
   "outputs": [
    {
     "data": {
      "image/png": "[encoded data removed]",
      "text/plain": [
       "<Figure size 432x288 with 1 Axes>"
      ]
     },
     "metadata": {
      "needs_background": "light"
     },
     "output_type": "display_data"
    }
   ],
   "source": [
    "ad_revenue.query('ad_type == \"banner\"').pivot_table(index = 'os_version', values='eCPM', aggfunc= 'count').reset_index().plot(kind = 'hist', bins = 50, alpha = 0.8, title = 'Распределение eCPM-ов по версиям ОС, формат рекламы banner')\n",
    "plt.show()"
   ]
  },
  {
   "cell_type": "code",
   "execution_count": 22,
   "id": "a981bb0e",
   "metadata": {},
   "outputs": [
    {
     "data": {
      "image/png": "[encoded data removed]",
      "text/plain": [
       "<Figure size 432x288 with 1 Axes>"
      ]
     },
     "metadata": {
      "needs_background": "light"
     },
     "output_type": "display_data"
    }
   ],
   "source": [
    "sns.barplot(data = ad_revenue.query('ad_type == \"banner\"').pivot_table(index = 'os_version', values='eCPM', aggfunc= 'count').reset_index().sort_values(by = 'eCPM', ascending = False),\n",
    "             x = 'os_version', y = 'eCPM', palette=\"Blues_d\").set(title = 'Распределение eCPM по платформам', xlabel = 'Версия ОС', ylabel = 'Количество eCPM')\n",
    "\n",
    "plt.show()"
   ]
  },
  {
   "cell_type": "code",
   "execution_count": 23,
   "id": "236219d9",
   "metadata": {},
   "outputs": [
    {
     "data": {
      "image/png": "[encoded data removed]",
      "text/plain": [
       "<Figure size 432x288 with 1 Axes>"
      ]
     },
     "metadata": {
      "needs_background": "light"
     },
     "output_type": "display_data"
    }
   ],
   "source": [
    "ad_revenue.query('ad_type == \"int\"').pivot_table(index = 'os_version', values='eCPM', aggfunc= 'count').reset_index().plot(kind = 'hist', bins = 50, alpha = 0.8, title = 'Распределение eCPM-ов по версиям ОС, формат рекламы int')\n",
    "plt.show()"
   ]
  },
  {
   "cell_type": "code",
   "execution_count": 24,
   "id": "f9134a6e",
   "metadata": {},
   "outputs": [
    {
     "data": {
      "image/png": "[encoded data removed]",
      "text/plain": [
       "<Figure size 432x288 with 1 Axes>"
      ]
     },
     "metadata": {
      "needs_background": "light"
     },
     "output_type": "display_data"
    }
   ],
   "source": [
    "sns.barplot(data = ad_revenue.query('ad_type == \"int\"').pivot_table(index = 'os_version', values='eCPM', aggfunc= 'count').reset_index().sort_values(by = 'eCPM', ascending = False),\n",
    "             x = 'os_version', y = 'eCPM', palette=\"Blues_d\").set(title = 'Распределение eCPM по платформам', xlabel = 'Версия ОС', ylabel = 'Количество eCPM')\n",
    "\n",
    "plt.show()"
   ]
  },
  {
   "cell_type": "code",
   "execution_count": 25,
   "id": "1d5b0a03",
   "metadata": {},
   "outputs": [
    {
     "data": {
      "image/png": "[encoded data removed]",
      "text/plain": [
       "<Figure size 432x288 with 1 Axes>"
      ]
     },
     "metadata": {
      "needs_background": "light"
     },
     "output_type": "display_data"
    }
   ],
   "source": [
    "ad_revenue.query('ad_type == \"rv\"').pivot_table(index = 'os_version', values='eCPM', aggfunc= 'count').reset_index().plot(kind = 'hist', bins = 50, alpha = 0.8, title = 'Распределение eCPM-ов по версиям ОС, формат рекламы rv')\n",
    "plt.show()"
   ]
  },
  {
   "cell_type": "code",
   "execution_count": 26,
   "id": "237af786",
   "metadata": {},
   "outputs": [
    {
     "data": {
      "image/png": "[encoded data removed]",
      "text/plain": [
       "<Figure size 432x288 with 1 Axes>"
      ]
     },
     "metadata": {
      "needs_background": "light"
     },
     "output_type": "display_data"
    }
   ],
   "source": [
    "sns.barplot(data = ad_revenue.query('ad_type == \"rv\"').pivot_table(index = 'os_version', values='eCPM', aggfunc= 'count').reset_index().sort_values(by = 'eCPM', ascending = False),\n",
    "             x = 'os_version', y = 'eCPM', palette=\"Blues_d\").set(title = 'Распределение eCPM по платформам', xlabel = 'Версия ОС', ylabel = 'Количество eCPM')\n",
    "\n",
    "plt.show()"
   ]
  },
  {
   "cell_type": "code",
   "execution_count": 27,
   "id": "ba1260cc",
   "metadata": {},
   "outputs": [
    {
     "name": "stdout",
     "output_type": "stream",
     "text": [
      "Дохода от рекламы rv в ОС версии 7.1.2 нет\n"
     ]
    }
   ],
   "source": [
    "for i in list(ad_revenue['os_version'].unique()):\n",
    "    if i not in list(ad_revenue.query('ad_type == \"rv\"')['os_version'].unique()):\n",
    "        print('Дохода от рекламы rv в ОС версии',i, 'нет')"
   ]
  },
  {
   "cell_type": "markdown",
   "id": "a2489f34",
   "metadata": {},
   "source": [
    "**Вывод**\n",
    "* Распределения eCPM-ов по городам и версиям ОС стремятся к нормальному, хотя и смещены влево\n",
    "* eCPM от размещения рекламы \"rv\" на ОС '7.1.2' нет"
   ]
  },
  {
   "cell_type": "markdown",
   "id": "80bca265",
   "metadata": {},
   "source": [
    "#### Для каждого формата рекламы построим распределение доходов по городам, версиям ОС"
   ]
  },
  {
   "cell_type": "code",
   "execution_count": 28,
   "id": "2842ca5a",
   "metadata": {},
   "outputs": [
    {
     "data": {
      "image/png": "[encoded data removed]",
      "text/plain": [
       "<Figure size 432x288 with 1 Axes>"
      ]
     },
     "metadata": {
      "needs_background": "light"
     },
     "output_type": "display_data"
    },
    {
     "name": "stdout",
     "output_type": "stream",
     "text": [
      "95% значений eCPM до уровня - 0.0019 , остальные считаем выбросами\n"
     ]
    }
   ],
   "source": [
    "ad_revenue.query('ad_type == \"banner\"').pivot_table(index = 'city', values='eCPM', aggfunc= 'sum').reset_index().query('eCPM > 0 & eCPM <= 0.0019').plot(kind = 'hist', bins = 100, alpha = 0.8, title = 'Распределение доходов по городам, формат рекламы banner')\n",
    "plt.show()\n",
    "\n",
    "print('95% значений eCPM до уровня -', \n",
    "      round(np.percentile(ad_revenue.query('ad_type == \"banner\"').pivot_table(index = 'city', values='eCPM', aggfunc= 'sum')['eCPM'], [95])[0], 5),\n",
    "      ', остальные считаем выбросами')"
   ]
  },
  {
   "cell_type": "code",
   "execution_count": 29,
   "id": "b51dc9c4",
   "metadata": {},
   "outputs": [
    {
     "data": {
      "image/png": "[encoded data removed]",
      "text/plain": [
       "<Figure size 432x288 with 1 Axes>"
      ]
     },
     "metadata": {
      "needs_background": "light"
     },
     "output_type": "display_data"
    },
    {
     "name": "stdout",
     "output_type": "stream",
     "text": [
      "95% значений eCPM до уровня - 0.00461 , остальные считаем выбросами\n"
     ]
    }
   ],
   "source": [
    "ad_revenue.query('ad_type == \"int\"').pivot_table(index = 'city', values='eCPM', aggfunc= 'sum').reset_index().query('eCPM > 0 & eCPM <= 0.00461').plot(kind = 'hist', bins = 100, alpha = 0.8, title = 'Распределение доходов по городам, формат рекламы int')\n",
    "plt.show()\n",
    "\n",
    "print('95% значений eCPM до уровня -', \n",
    "      round(np.percentile(ad_revenue.query('ad_type == \"int\"').pivot_table(index = 'city', values='eCPM', aggfunc= 'sum')['eCPM'], [95])[0], 5),\n",
    "      ', остальные считаем выбросами')"
   ]
  },
  {
   "cell_type": "code",
   "execution_count": 30,
   "id": "b73bdbb9",
   "metadata": {},
   "outputs": [
    {
     "data": {
      "image/png": "[encoded data removed]",
      "text/plain": [
       "<Figure size 432x288 with 1 Axes>"
      ]
     },
     "metadata": {
      "needs_background": "light"
     },
     "output_type": "display_data"
    },
    {
     "name": "stdout",
     "output_type": "stream",
     "text": [
      "95% значений eCPM до уровня - 0.00237 , остальные считаем выбросами\n"
     ]
    }
   ],
   "source": [
    "ad_revenue.query('ad_type == \"rv\"').pivot_table(index = 'city', values='eCPM', aggfunc= 'sum').reset_index().query('eCPM > 0 & eCPM <= 0.00237').plot(kind = 'hist', bins = 100, alpha = 0.8, title = 'Распределение доходов по городам, формат рекламы rv')\n",
    "plt.show()\n",
    "\n",
    "print('95% значений eCPM до уровня -', \n",
    "      round(np.percentile(ad_revenue.query('ad_type == \"rv\"').pivot_table(index = 'city', values='eCPM', aggfunc= 'sum')['eCPM'], [95])[0], 5),\n",
    "      ', остальные считаем выбросами')"
   ]
  },
  {
   "cell_type": "code",
   "execution_count": 31,
   "id": "a18279b1",
   "metadata": {},
   "outputs": [
    {
     "data": {
      "image/png": "[encoded data removed]",
      "text/plain": [
       "<Figure size 432x288 with 1 Axes>"
      ]
     },
     "metadata": {
      "needs_background": "light"
     },
     "output_type": "display_data"
    }
   ],
   "source": [
    "ad_revenue.query('ad_type == \"banner\"').pivot_table(index = 'os_version', values='eCPM', aggfunc= 'sum').reset_index().plot(kind = 'hist', bins = 50, alpha = 0.8, title ='Распределение доходов версиям ОС, формат рекламы banner')\n",
    "plt.show()"
   ]
  },
  {
   "cell_type": "code",
   "execution_count": 32,
   "id": "130ddcc6",
   "metadata": {},
   "outputs": [
    {
     "data": {
      "image/png": "[encoded data removed]",
      "text/plain": [
       "<Figure size 432x288 with 1 Axes>"
      ]
     },
     "metadata": {
      "needs_background": "light"
     },
     "output_type": "display_data"
    }
   ],
   "source": [
    "ad_revenue.query('ad_type == \"int\"').pivot_table(index = 'os_version', values='eCPM', aggfunc= 'sum').reset_index().plot(kind = 'hist', bins = 50, alpha = 0.8, title ='Распределение доходов версиям ОС, формат рекламы int')\n",
    "plt.show()"
   ]
  },
  {
   "cell_type": "code",
   "execution_count": 33,
   "id": "b40b4b12",
   "metadata": {},
   "outputs": [
    {
     "data": {
      "image/png": "[encoded data removed]",
      "text/plain": [
       "<Figure size 432x288 with 1 Axes>"
      ]
     },
     "metadata": {
      "needs_background": "light"
     },
     "output_type": "display_data"
    }
   ],
   "source": [
    "ad_revenue.query('ad_type == \"rv\"').pivot_table(index = 'os_version', values='eCPM', aggfunc= 'sum').reset_index().plot(kind = 'hist', bins = 50, alpha = 0.8, title = 'Распределение доходов версиям ОС, формат рекламы rv')\n",
    "plt.show()"
   ]
  },
  {
   "cell_type": "markdown",
   "id": "a9e0f2ed",
   "metadata": {},
   "source": [
    "**Вывод:**\n",
    "* Распределения доходов по городам и версиям ОС стремятся к нормальному, хотя и смещены влево\n",
    "* Доходов от размещения рекламы \"rv\" на ОС '7.1.2' нет"
   ]
  },
  {
   "cell_type": "markdown",
   "id": "5f16d59d",
   "metadata": {},
   "source": [
    "**Проверим, значение средних eCPM платформ одинаковые:**  \n",
    "H0: Средний eCPM пользователей разных рекламных платформ banner и int одинаковый.  \n",
    "H1: Средний eCPM пользователей разных рекламных платформ banner и int различается."
   ]
  },
  {
   "cell_type": "code",
   "execution_count": 34,
   "id": "81955a7e",
   "metadata": {},
   "outputs": [
    {
     "name": "stdout",
     "output_type": "stream",
     "text": [
      "Средний eCPM разных рекламных платформ banner 7.441164488220084e-07\n",
      "Средний eCPM разных рекламных платформ int 3.6210812668218534e-05\n",
      "\n",
      "p-значение: 0.0\n",
      "Принимаем альтернативную гипотезу\n"
     ]
    }
   ],
   "source": [
    "print('Средний eCPM разных рекламных платформ banner', ad_revenue.query('ad_type == \"banner\"')['eCPM'].mean())\n",
    "print('Средний eCPM разных рекламных платформ int', ad_revenue.query('ad_type == \"int\"')['eCPM'].mean())\n",
    "print()\n",
    "\n",
    "results = st.ttest_ind(\n",
    "    ad_revenue.query('ad_type == \"banner\"')['eCPM'], \n",
    "    ad_revenue.query('ad_type == \"int\"')['eCPM'], \n",
    "    equal_var=False)\n",
    "\n",
    "alpha = 0.05\n",
    "print('p-значение:', round(results.pvalue, 5))\n",
    "\n",
    "if results.pvalue < alpha:\n",
    "    print('Принимаем альтернативную гипотезу')\n",
    "else:\n",
    "    print('Опровергнуть нулевую гипотезу нельзя')"
   ]
  },
  {
   "cell_type": "markdown",
   "id": "b7a75db0",
   "metadata": {},
   "source": [
    "**Проверим, значение средних eCPM платформ одинаковые:**  \n",
    "H0: Средний eCPM пользователей разных рекламных платформ banner и rv одинаковый.  \n",
    "H1: Средний eCPM пользователей разных рекламных платформ banner и rv различается."
   ]
  },
  {
   "cell_type": "code",
   "execution_count": 35,
   "id": "1bd02e07",
   "metadata": {},
   "outputs": [
    {
     "name": "stdout",
     "output_type": "stream",
     "text": [
      "Средний eCPM разных рекламных платформ banner 7.441164488220084e-07\n",
      "Средний eCPM разных рекламных платформ rv 6.5051165091083e-05\n",
      "\n",
      "p-значение: 0.0\n",
      "Принимаем альтернативную гипотезу\n"
     ]
    }
   ],
   "source": [
    "print('Средний eCPM разных рекламных платформ banner', ad_revenue.query('ad_type == \"banner\"')['eCPM'].mean())\n",
    "print('Средний eCPM разных рекламных платформ rv', ad_revenue.query('ad_type == \"rv\"')['eCPM'].mean())\n",
    "print()\n",
    "\n",
    "results = st.ttest_ind(\n",
    "    ad_revenue.query('ad_type == \"banner\"')['eCPM'], \n",
    "    ad_revenue.query('ad_type == \"rv\"')['eCPM'], \n",
    "    equal_var=False)\n",
    "\n",
    "alpha = 0.05\n",
    "print('p-значение:', round(results.pvalue, 5))\n",
    "\n",
    "if results.pvalue < alpha:\n",
    "    print('Принимаем альтернативную гипотезу')\n",
    "else:\n",
    "    print('Опровергнуть нулевую гипотезу нельзя')"
   ]
  },
  {
   "cell_type": "markdown",
   "id": "c0dd1550",
   "metadata": {},
   "source": [
    "**Проверим, значение средних eCPM платформ одинаковые:**  \n",
    "H0: Средний eCPM пользователей разных рекламных платформ int и rv одинаковый.  \n",
    "H1: Средний eCPM пользователей разных рекламных платформ int и rv различается."
   ]
  },
  {
   "cell_type": "code",
   "execution_count": 36,
   "id": "2a790419",
   "metadata": {},
   "outputs": [
    {
     "name": "stdout",
     "output_type": "stream",
     "text": [
      "Средний eCPM разных рекламных платформ int 3.6210812668218534e-05\n",
      "Средний eCPM разных рекламных платформ rv 6.5051165091083e-05\n",
      "\n",
      "p-значение: 0.0\n",
      "Принимаем альтернативную гипотезу\n"
     ]
    }
   ],
   "source": [
    "print('Средний eCPM разных рекламных платформ int', ad_revenue.query('ad_type == \"int\"')['eCPM'].mean())\n",
    "print('Средний eCPM разных рекламных платформ rv', ad_revenue.query('ad_type == \"rv\"')['eCPM'].mean())\n",
    "print()\n",
    "\n",
    "results = st.ttest_ind(\n",
    "    ad_revenue.query('ad_type == \"int\"')['eCPM'], \n",
    "    ad_revenue.query('ad_type == \"rv\"')['eCPM'], \n",
    "    equal_var=False)\n",
    "\n",
    "alpha = 0.05\n",
    "print('p-значение:', round(results.pvalue, 5))\n",
    "\n",
    "if results.pvalue < alpha:\n",
    "    print('Принимаем альтернативную гипотезу')\n",
    "else:\n",
    "    print('Опровергнуть нулевую гипотезу нельзя')"
   ]
  },
  {
   "cell_type": "markdown",
   "id": "541a4ad0",
   "metadata": {},
   "source": [
    "**Вывод:** \n",
    "* Средние значения eCPM разных рекламных платформ при уровне статичтической значимости равной 0.05 отличаются."
   ]
  },
  {
   "cell_type": "markdown",
   "id": "a7810220",
   "metadata": {},
   "source": [
    "#### Узнаем какой процент доходов содержит информацию о городе юзера"
   ]
  },
  {
   "cell_type": "code",
   "execution_count": 37,
   "id": "4b2149ed",
   "metadata": {},
   "outputs": [
    {
     "name": "stdout",
     "output_type": "stream",
     "text": [
      "Информацию о городе юзера содержит - 63.58 % доходов\n"
     ]
    }
   ],
   "source": [
    "print('Информацию о городе юзера содержит -', round(ad_revenue.query('city != \"nan\"')['eCPM'].sum() / ad_revenue['eCPM'].sum() * 100, 2), '% доходов')"
   ]
  },
  {
   "cell_type": "markdown",
   "id": "0e2ca9c1",
   "metadata": {},
   "source": [
    "#### Узнаем зависит ли eCPM от времени дня"
   ]
  },
  {
   "cell_type": "code",
   "execution_count": 38,
   "id": "42b3a5ad",
   "metadata": {},
   "outputs": [],
   "source": [
    "ad_revenue['event_receive_datetime_hour'] = pd.to_datetime(ad_revenue['event_receive_datetime']).dt.hour"
   ]
  },
  {
   "cell_type": "code",
   "execution_count": 39,
   "id": "464d6d12",
   "metadata": {},
   "outputs": [
    {
     "data": {
      "image/png": "[encoded data removed]",
      "text/plain": [
       "<Figure size 432x288 with 1 Axes>"
      ]
     },
     "metadata": {
      "needs_background": "light"
     },
     "output_type": "display_data"
    }
   ],
   "source": [
    "ad_revenue_hour = ad_revenue.pivot_table(index = 'event_receive_datetime_hour', values='eCPM', aggfunc= 'count').reset_index()\n",
    "sns.lineplot(data = ad_revenue_hour, x = 'event_receive_datetime_hour', y = 'eCPM', palette=\"Blues_d\").set(title = 'Зависимость eCPM от времени суток', xlabel = 'Время в часах', ylabel = 'Количество eCPM')\n",
    "\n",
    "plt.show()"
   ]
  },
  {
   "cell_type": "markdown",
   "id": "670926c2",
   "metadata": {},
   "source": [
    "### Вывод:\n",
    "- Осуществлено чтение  и загрузка данных из файла, их оценка и предобработка\n",
    "- Для каждого формата рекламы построим распределение средних eCPM-ов юзеров, распределение стремится к нормальному, но смещено влево. Медианное значение eCPM для разных форматов реклам = \n",
    "        - banner - 4.94e-07\n",
    "        - int - 2.14e-05\n",
    "        - rv - 3.15e-05\n",
    "- Для каждого формата рекламы построим распределение eCPM-ов по городам, версиям ОС - распределения стремятся к нормальному, но смещены влево. Дохода от рекламы rv в ОС версии 7.1.2 нет.\n",
    "- Для каждого формата рекламы построим распределение доходов по городам, версиям ОС - распределения стремятся к нормальному, но смещены влево.\n",
    "- Осуществлена проверка гипотез равенства средних eCPM разных рекламных платформ, в хоже которой выявлено, что средние eCPM при уровне статичтической значимость равной 0.05 имеют статистические различия.\n",
    "- Информацию о городе юзера содержит - 63.58 % доходов\n",
    "- Значение eCPM зависит от времени дня, при этом зависимость синусоидальная - в 5 часов пик, в 13 часов спад\n",
    "- Таким образом на покаатель eCPM влияет как форматов реклам, город и версиям ОС, а также время показа."
   ]
  },
  {
   "cell_type": "code",
   "execution_count": null,
   "id": "edb706bb",
   "metadata": {},
   "outputs": [],
   "source": []
  }
 ],
 "metadata": {
  "kernelspec": {
   "display_name": "Python 3 (ipykernel)",
   "language": "python",
   "name": "python3"
  },
  "language_info": {
   "codemirror_mode": {
    "name": "ipython",
    "version": 3
   },
   "file_extension": ".py",
   "mimetype": "text/x-python",
   "name": "python",
   "nbconvert_exporter": "python",
   "pygments_lexer": "ipython3",
   "version": "3.9.7"
  }
 },
 "nbformat": 4,
 "nbformat_minor": 5
}
